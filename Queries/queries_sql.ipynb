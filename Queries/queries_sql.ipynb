{
 "cells": [
  {
   "cell_type": "code",
   "execution_count": null,
   "id": "18dc98d5",
   "metadata": {},
   "outputs": [],
   "source": [
    "-- employee retirement between 1952 and 1955\n",
    "SELECT first_name, last_name\n",
    "FROM employees\n",
    "WHERE birth_date BETWEEN '1952-01-01' AND '1955-12-31';\n",
    "\n",
    "-- employee retirement between 1952\n",
    "SELECT first_name, last_name\n",
    "FROM employees\n",
    "WHERE birth_date BETWEEN '1952-01-01' AND '1952-12-31';\n",
    "\n",
    "--employee retirement between 1953\n",
    "SELECT first_name, last_name\n",
    "FROM employees\n",
    "WHERE birth_date BETWEEN '1953-01-01' AND '1953-12-31';\n",
    "\n",
    "--employee retirement between 1954\n",
    "SELECT first_name, last_name\n",
    "FROM employees\n",
    "WHERE birth_date BETWEEN '1954-01-01' AND '1954-12-31';\n",
    "\n",
    "--employee retirement between 1955\n",
    "SELECT first_name, last_name\n",
    "FROM employees\n",
    "WHERE birth_date BETWEEN '1955-01-01' AND '1955-12-31';\n",
    "\n",
    "-- Retirement eligibility\n",
    "SELECT first_name, last_name\n",
    "FROM employees\n",
    "WHERE (birth_date BETWEEN '1952-01-01' AND '1955-12-31')\n",
    "AND (hire_date BETWEEN '1985-01-01' AND '1988-12-31');\n",
    "\n",
    "-- Number of employees retiring\n",
    "SELECT COUNT(first_name)\n",
    "FROM employees\n",
    "WHERE (birth_date BETWEEN '1952-01-01' AND '1955-12-31')\n",
    "AND (hire_date BETWEEN '1985-01-01' AND '1988-12-31');\n",
    "--create database of retiring employees\n",
    "SELECT first_name, last_name\n",
    "INTO retirement_info\n",
    "FROM employees\n",
    "WHERE (birth_date BETWEEN '1952-01-01' AND '1955-12-31')\n",
    "AND (hire_date BETWEEN '1985-01-01' AND '1988-12-31');\n",
    "\n",
    "SELECT * FROM retirement_info;"
   ]
  }
 ],
 "metadata": {
  "kernelspec": {
   "display_name": "Python 3",
   "language": "python",
   "name": "python3"
  },
  "language_info": {
   "codemirror_mode": {
    "name": "ipython",
    "version": 3
   },
   "file_extension": ".py",
   "mimetype": "text/x-python",
   "name": "python",
   "nbconvert_exporter": "python",
   "pygments_lexer": "ipython3",
   "version": "3.8.8"
  }
 },
 "nbformat": 4,
 "nbformat_minor": 5
}
